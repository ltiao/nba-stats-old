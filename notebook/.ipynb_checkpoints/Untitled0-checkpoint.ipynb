{
 "metadata": {
  "name": "",
  "signature": "sha256:511fcd56505319e24ab2441973fc6841f36b0ba70d6beff9a4e1ed5474efda9d"
 },
 "nbformat": 3,
 "nbformat_minor": 0,
 "worksheets": []
}